{
 "cells": [
  {
   "cell_type": "code",
   "execution_count": 1,
   "metadata": {
    "collapsed": false
   },
   "outputs": [],
   "source": [
    "from ny_utils import *\n",
    "\n",
    "import datetime\n",
    "import matplotlib.pyplot as plt\n",
    "import os\n",
    "import pandas as pd\n",
    "from sklearn.mixture import GMM\n",
    "from sklearn.neighbors import KNeighborsRegressor as KNN\n",
    "from sklearn.preprocessing import StandardScaler\n",
    "from sklearn.grid_search import GridSearchCV\n",
    "from sklearn.cross_validation import KFold\n",
    "\n",
    "seed = 0\n",
    "n_folds = 10"
   ]
  },
  {
   "cell_type": "markdown",
   "metadata": {},
   "source": [
    "# Read Data into Array from One Person"
   ]
  },
  {
   "cell_type": "code",
   "execution_count": 24,
   "metadata": {
    "collapsed": false
   },
   "outputs": [],
   "source": [
    "# plot locations for a user, color in terms of the hour of the day and the day of the week\n",
    "d = read_NY_NY('Megan.csv')\n",
    "\n",
    "# get datetime objects from timestamps\n",
    "datetime_labels = [datetime.datetime.fromtimestamp( lab ) for lab in d[:,2]]\n",
    "\n",
    "# lat long\n",
    "Y = d[:,:2]\n",
    "\n",
    "# hour of the day\n",
    "hours = [h.hour for h in datetime_labels]\n",
    "\n",
    "# day of the week\n",
    "days = [h.weekday() for h in datetime_labels]\n",
    "\n",
    "# time of day\n",
    "times = [seconds_from_midnight(h) for h in datetime_labels]\n",
    "\n",
    "# weekend vs. weekday\n",
    "day_type = [(i > 4).real for i in days]\n",
    "\n",
    "\n",
    "## Set up CV sets\n",
    "cross_val = KFold(Y.shape[0],n_folds = n_folds, shuffle=True, random_state = seed)"
   ]
  },
  {
   "cell_type": "markdown",
   "metadata": {
    "collapsed": false
   },
   "source": [
    "## Run KNN as baseline score"
   ]
  },
  {
   "cell_type": "code",
   "execution_count": null,
   "metadata": {
    "collapsed": false
   },
   "outputs": [],
   "source": [
    "## Select features\n",
    "\n",
    "X = np.array((days,times,day_type)).T # this one was the best -> some information is added to day of week by weekend/weekday\n",
    "# X = np.array((hours,day_type)).T # day of the week and time of day\n",
    "# X = np.array((day_type,times)).T # this one was much better\n",
    "\n",
    "# X = np.array(days)*3600*24+np.array(times)\n",
    "# X.resize((X.shape[0],1)) # days since midnight on monday - most basic and does alright but doesn't account for something exactly 24 hrs apart being more similar than 12 hours apart\n",
    "\n",
    "## Normalize\n",
    "scalar = StandardScaler().fit(X)\n",
    "X = scalar.transform(X)"
   ]
  },
  {
   "cell_type": "code",
   "execution_count": null,
   "metadata": {
    "collapsed": false
   },
   "outputs": [],
   "source": [
    "nn = range(1,70)\n",
    "weights = ['uniform','distance']\n",
    "p = [1,2]\n",
    "\n",
    "cross_val = KFold(Y.shape[0],n_folds = n_folds, shuffle=True, random_state = seed)"
   ]
  },
  {
   "cell_type": "code",
   "execution_count": null,
   "metadata": {
    "collapsed": false
   },
   "outputs": [],
   "source": [
    "pred = GridSearchCV(KNN(),\n",
    "                    param_grid = {'n_neighbors' : nn,\n",
    "                                  'weights' : weights,\n",
    "                                  'p' : p},\n",
    "                    n_jobs=-1,\n",
    "                    cv = cross_val)"
   ]
  },
  {
   "cell_type": "code",
   "execution_count": null,
   "metadata": {
    "collapsed": false
   },
   "outputs": [],
   "source": [
    "pred.fit(X,Y)"
   ]
  },
  {
   "cell_type": "code",
   "execution_count": null,
   "metadata": {
    "collapsed": false,
    "scrolled": true
   },
   "outputs": [],
   "source": [
    "pred.best_score_"
   ]
  },
  {
   "cell_type": "code",
   "execution_count": null,
   "metadata": {
    "collapsed": false
   },
   "outputs": [],
   "source": [
    "pred.best_score_"
   ]
  },
  {
   "cell_type": "code",
   "execution_count": null,
   "metadata": {
    "collapsed": false,
    "scrolled": true
   },
   "outputs": [],
   "source": [
    "pred.best_params_"
   ]
  },
  {
   "cell_type": "markdown",
   "metadata": {},
   "source": [
    "## Run GMM-style predictor to compare"
   ]
  },
  {
   "cell_type": "markdown",
   "metadata": {},
   "source": [
    "### Plan is to fit the generative model, then cycle through all of the previously visited points and pick the location that is most probable given the time"
   ]
  },
  {
   "cell_type": "markdown",
   "metadata": {},
   "source": [
    "THINGS TO TRY:\n",
    "\n",
    "- week/weekend + hour features vs. single \"hours since monday morning\" feature"
   ]
  },
  {
   "cell_type": "code",
   "execution_count": 23,
   "metadata": {
    "collapsed": false
   },
   "outputs": [],
   "source": [
    "class GMMPredictor(GMM):\n",
    "\n",
    "    def __init__(self, n_neighbors=1, n_components=1, covariance_type='diag',\n",
    "                 random_state=None, tol=1e-3, min_covar=1e-3,\n",
    "                 n_iter=100, n_init=1, params='wmc', init_params='wmc',\n",
    "                 verbose=0):\n",
    "        # n_neighbors describes how many of the most likely previous locations are averaged\n",
    "        # to make a prediction (much like KNN)\n",
    "        self.n_neighbors = n_neighbors\n",
    "        self.n_components = n_components\n",
    "        self.covariance_type = covariance_type\n",
    "        self.tol = tol\n",
    "        self.min_covar = min_covar\n",
    "        self.random_state = random_state\n",
    "        self.n_iter = n_iter\n",
    "        self.n_init = n_init\n",
    "        self.params = params\n",
    "        self.init_params = init_params\n",
    "        self.verbose = verbose\n",
    "        \n",
    "    # using same scoring method as with KNN to compare\n",
    "    def score(self,X,y,sample_weight=None):\n",
    "        from sklearn.metrics import r2_score\n",
    "        return r2_score(y, self.predict(X), sample_weight=sample_weight,\n",
    "                        multioutput='variance_weighted')\n",
    "\n",
    "    def fit(self,X,Y, sample_weight = None):\n",
    "        self.generator = GMM(n_components=self.n_components, covariance_type=self.covariance_type,\n",
    "                 random_state=self.random_state, tol=self.tol, min_covar=self.min_covar,\n",
    "                 n_iter=self.n_iter, n_init=self.n_init, params=self.params, init_params=self.init_params,\n",
    "                 verbose=self.verbose)\n",
    "        \n",
    "        self.n_prev_locs = Y.shape[0]\n",
    "        self.n_features = X.shape[1]\n",
    "        \n",
    "        all_data = np.hstack((X,Y))\n",
    "        \n",
    "        self.generator.fit(all_data)\n",
    "        self.Y = Y\n",
    "    \n",
    "    def predict(self,X):\n",
    "        n_X = X.shape[0]\n",
    "        locs = np.zeros((n_X,self.Y.shape[1]))\n",
    "        for i in range(n_X):\n",
    "            thisX = X[i,:]\n",
    "            X_arr = thisX * np.ones((self.n_prev_locs,self.n_features))\n",
    "            X_and_loc = np.hstack((X_arr,self.Y))\n",
    "            \n",
    "            prob = self.generator.score(X_and_loc)\n",
    "            ix = prob.argsort()[-self.n_neighbors:]\n",
    "            top_probs = np.exp(prob[ix])\n",
    "            total_top_prob = top_probs.sum()\n",
    "            scaled_probs = top_probs / total_top_prob\n",
    "            \n",
    "            mean_loc = np.dot(scaled_probs,Y[ix,:])\n",
    "            locs[i,:] = mean_loc\n",
    "        \n",
    "        return locs\n",
    "                \n",
    "            "
   ]
  },
  {
   "cell_type": "code",
   "execution_count": 25,
   "metadata": {
    "collapsed": false
   },
   "outputs": [],
   "source": [
    "## Select features\n",
    "\n",
    "# X = np.array((days,times)).T # day of the week and time of day\n",
    "\n",
    "# X = np.array((hours,day_type)).T# type of day and hour of the day\n",
    "\n",
    "# X = np.array(days)*3600*24+np.array(times)\n",
    "# X.resize((X.shape[0],1)) # days since midnight on monday\n",
    "\n",
    "X = np.array((times,day_type)).T # type of day and time of day\n",
    "\n",
    "## Normalize\n",
    "# scalar = StandardScaler().fit(X)\n",
    "# X = scalar.transform(X)"
   ]
  },
  {
   "cell_type": "code",
   "execution_count": 26,
   "metadata": {
    "collapsed": true
   },
   "outputs": [],
   "source": [
    "components = [1,2,3,4]\n",
    "nn = [5,60]"
   ]
  },
  {
   "cell_type": "code",
   "execution_count": 28,
   "metadata": {
    "collapsed": false
   },
   "outputs": [],
   "source": [
    "pred = GridSearchCV(GMMPredictor(random_state = seed, covariance_type = 'full'),\n",
    "                    param_grid = {'n_components': components,\n",
    "                                  'n_neighbors': nn},\n",
    "                    cv = cross_val)\n"
   ]
  },
  {
   "cell_type": "code",
   "execution_count": 29,
   "metadata": {
    "collapsed": false,
    "scrolled": false
   },
   "outputs": [
    {
     "data": {
      "text/plain": [
       "GridSearchCV(cv=sklearn.cross_validation.KFold(n=949, n_folds=10, shuffle=True, random_state=0),\n",
       "       error_score='raise',\n",
       "       estimator=GMMPredictor(covariance_type='full', init_params='wmc', min_covar=0.001,\n",
       "       n_components=1, n_init=1, n_iter=100, n_neighbors=1, params='wmc',\n",
       "       random_state=0, tol=0.001, verbose=0),\n",
       "       fit_params={}, iid=True, n_jobs=1,\n",
       "       param_grid={'n_neighbors': [5, 60], 'n_components': [1, 2, 3, 4]},\n",
       "       pre_dispatch='2*n_jobs', refit=True, scoring=None, verbose=0)"
      ]
     },
     "execution_count": 29,
     "metadata": {},
     "output_type": "execute_result"
    }
   ],
   "source": [
    "pred.fit(X,Y)"
   ]
  },
  {
   "cell_type": "code",
   "execution_count": 30,
   "metadata": {
    "collapsed": false
   },
   "outputs": [
    {
     "data": {
      "text/plain": [
       "0.0031744305558522646"
      ]
     },
     "execution_count": 30,
     "metadata": {},
     "output_type": "execute_result"
    }
   ],
   "source": [
    "pred.best_score_"
   ]
  },
  {
   "cell_type": "code",
   "execution_count": 31,
   "metadata": {
    "collapsed": false,
    "scrolled": true
   },
   "outputs": [
    {
     "data": {
      "text/plain": [
       "{'n_components': 1, 'n_neighbors': 60}"
      ]
     },
     "execution_count": 31,
     "metadata": {},
     "output_type": "execute_result"
    }
   ],
   "source": [
    "pred.best_params_"
   ]
  },
  {
   "cell_type": "code",
   "execution_count": null,
   "metadata": {
    "collapsed": false,
    "scrolled": true
   },
   "outputs": [],
   "source": [
    "pred.best_estimator_.generator.weights_"
   ]
  },
  {
   "cell_type": "markdown",
   "metadata": {},
   "source": [
    "## Now loop through each person, try GMM and KNN, take best, and make predicitons"
   ]
  },
  {
   "cell_type": "code",
   "execution_count": null,
   "metadata": {
    "collapsed": true
   },
   "outputs": [],
   "source": [
    "best_method = {}\n",
    "best_params = {}\n",
    "best_score = {}"
   ]
  },
  {
   "cell_type": "code",
   "execution_count": null,
   "metadata": {
    "collapsed": false
   },
   "outputs": [
    {
     "name": "stdout",
     "output_type": "stream",
     "text": [
      "Starting John\n",
      "KNN iteration: 1\n",
      "nn_max = 40\n",
      "False\n"
     ]
    },
    {
     "name": "stderr",
     "output_type": "stream",
     "text": [
      "/Users/ianbolliger/Library/Enthought/Canopy_64bit/User/lib/python2.7/site-packages/sklearn/utils/validation.py:420: DataConversionWarning: Data with input dtype int64 was converted to float64 by StandardScaler.\n",
      "  warnings.warn(msg, DataConversionWarning)\n",
      "/Users/ianbolliger/Library/Enthought/Canopy_64bit/User/lib/python2.7/site-packages/sklearn/utils/validation.py:420: DataConversionWarning: Data with input dtype int64 was converted to float64 by StandardScaler.\n",
      "  warnings.warn(msg, DataConversionWarning)\n"
     ]
    },
    {
     "name": "stdout",
     "output_type": "stream",
     "text": [
      "KNN iteration: 2\n",
      "nn_max = 80\n",
      "False\n",
      "KNN iteration: 3\n",
      "nn_max = 120\n",
      "False\n",
      "GMM Iteration: 1\n",
      "comp range = 1 - 4\n",
      "nn range = [108 113 118 123 128]\n",
      "GMM Iteration: 2\n",
      "comp range = 1 - 4\n",
      "nn range = [118 123 128 133 138]\n",
      "GMM Iteration: 3\n",
      "comp range = 1 - 4\n",
      "nn range = [128 133 138 143 148]\n",
      "GMM Iteration: 4\n",
      "comp range = 1 - 4\n",
      "nn range = [138 143 148 153 158]\n",
      "GMM Iteration: 5\n",
      "comp range = 1 - 4\n",
      "nn range = [148 153 158 163 168]\n",
      "GMM Iteration: 6\n",
      "comp range = 1 - 4\n",
      "nn range = [158 163 168 173 178]\n"
     ]
    },
    {
     "name": "stderr",
     "output_type": "stream",
     "text": [
      "/Users/ianbolliger/Library/Enthought/Canopy_64bit/User/lib/python2.7/site-packages/sklearn/utils/validation.py:420: DataConversionWarning: Data with input dtype int64 was converted to float64 by StandardScaler.\n",
      "  warnings.warn(msg, DataConversionWarning)\n",
      "/Users/ianbolliger/Library/Enthought/Canopy_64bit/User/lib/python2.7/site-packages/sklearn/utils/validation.py:420: DataConversionWarning: Data with input dtype int64 was converted to float64 by StandardScaler.\n",
      "  warnings.warn(msg, DataConversionWarning)\n"
     ]
    },
    {
     "name": "stdout",
     "output_type": "stream",
     "text": [
      "Best Params: {'n_neighbors': 118, 'weights': 'distance', 'p': 1}\n",
      "Done: John\n",
      "Starting Latasha\n",
      "KNN iteration: 1\n",
      "nn_max = 40\n",
      "False\n"
     ]
    },
    {
     "name": "stderr",
     "output_type": "stream",
     "text": [
      "/Users/ianbolliger/Library/Enthought/Canopy_64bit/User/lib/python2.7/site-packages/sklearn/utils/validation.py:420: DataConversionWarning: Data with input dtype int64 was converted to float64 by StandardScaler.\n",
      "  warnings.warn(msg, DataConversionWarning)\n"
     ]
    },
    {
     "name": "stdout",
     "output_type": "stream",
     "text": [
      "GMM Iteration: 1\n",
      "comp range = 1 - 4\n",
      "nn range = [-3  2  7 12 17]\n",
      "GMM Iteration: 2\n",
      "comp range = 1 - 4\n",
      "nn range = [ 7 12 17 22 27]\n",
      "GMM Iteration: 3\n",
      "comp range = 5 - 8\n",
      "nn range = [ 7 12 17 22 27]\n",
      "Best Params: {'n_neighbors': 7, 'weights': 'uniform', 'p': 1}\n",
      "Done: Latasha\n",
      "Starting Lee\n",
      "KNN iteration: 1\n",
      "nn_max = 40\n",
      "False\n"
     ]
    },
    {
     "name": "stderr",
     "output_type": "stream",
     "text": [
      "/Users/ianbolliger/Library/Enthought/Canopy_64bit/User/lib/python2.7/site-packages/sklearn/utils/validation.py:420: DataConversionWarning: Data with input dtype int64 was converted to float64 by StandardScaler.\n",
      "  warnings.warn(msg, DataConversionWarning)\n",
      "/Users/ianbolliger/Library/Enthought/Canopy_64bit/User/lib/python2.7/site-packages/sklearn/utils/validation.py:420: DataConversionWarning: Data with input dtype int64 was converted to float64 by StandardScaler.\n",
      "  warnings.warn(msg, DataConversionWarning)\n",
      "/Users/ianbolliger/Library/Enthought/Canopy_64bit/User/lib/python2.7/site-packages/sklearn/utils/validation.py:420: DataConversionWarning: Data with input dtype int64 was converted to float64 by StandardScaler.\n",
      "  warnings.warn(msg, DataConversionWarning)\n"
     ]
    },
    {
     "name": "stdout",
     "output_type": "stream",
     "text": [
      "GMM Iteration: 1\n",
      "comp range = 1 - 4\n",
      "nn range = [23 28 33 38 43]\n",
      "GMM Iteration: 2\n",
      "comp range = 1 - 4\n",
      "nn range = [33 38 43 48 53]\n",
      "GMM Iteration: 3\n",
      "comp range = 1 - 4\n",
      "nn range = [43 48 53 58 63]\n",
      "GMM Iteration: 4\n",
      "comp range = 1 - 4\n",
      "nn range = [53 58 63 68 73]\n",
      "GMM Iteration: 5\n",
      "comp range = 1 - 4\n",
      "nn range = [63 68 73 78 83]\n",
      "GMM Iteration: 6\n",
      "comp range = 1 - 4\n",
      "nn range = [73 78 83 88 93]\n",
      "GMM Iteration: 7\n",
      "comp range = 1 - 4\n",
      "nn range = [ 83  88  93  98 103]\n"
     ]
    },
    {
     "name": "stderr",
     "output_type": "stream",
     "text": [
      "/Users/ianbolliger/Library/Enthought/Canopy_64bit/User/lib/python2.7/site-packages/sklearn/utils/validation.py:420: DataConversionWarning: Data with input dtype int64 was converted to float64 by StandardScaler.\n",
      "  warnings.warn(msg, DataConversionWarning)\n",
      "/Users/ianbolliger/Library/Enthought/Canopy_64bit/User/lib/python2.7/site-packages/sklearn/utils/validation.py:420: DataConversionWarning: Data with input dtype int64 was converted to float64 by StandardScaler.\n",
      "  warnings.warn(msg, DataConversionWarning)\n"
     ]
    },
    {
     "name": "stdout",
     "output_type": "stream",
     "text": [
      "Best Params: {'n_neighbors': 33, 'weights': 'uniform', 'p': 2}\n",
      "Done: Lee\n",
      "Starting Martin\n",
      "KNN iteration: 1\n",
      "nn_max = 40\n",
      "False\n"
     ]
    },
    {
     "name": "stderr",
     "output_type": "stream",
     "text": [
      "/Users/ianbolliger/Library/Enthought/Canopy_64bit/User/lib/python2.7/site-packages/sklearn/utils/validation.py:420: DataConversionWarning: Data with input dtype int64 was converted to float64 by StandardScaler.\n",
      "  warnings.warn(msg, DataConversionWarning)\n"
     ]
    },
    {
     "name": "stdout",
     "output_type": "stream",
     "text": [
      "GMM Iteration: 1\n",
      "comp range = 1 - 4\n",
      "nn range = [ 2  7 12 17 22]\n",
      "GMM Iteration: 2\n",
      "comp range = 1 - 4\n",
      "nn range = [12 17 22 27 32]\n",
      "Best Params: {'n_neighbors': 12, 'weights': 'uniform', 'p': 2}\n",
      "Done: Martin\n",
      "Starting Mary\n",
      "KNN iteration: 1\n",
      "nn_max = 40\n",
      "False\n"
     ]
    },
    {
     "name": "stderr",
     "output_type": "stream",
     "text": [
      "/Users/ianbolliger/Library/Enthought/Canopy_64bit/User/lib/python2.7/site-packages/sklearn/utils/validation.py:420: DataConversionWarning: Data with input dtype int64 was converted to float64 by StandardScaler.\n",
      "  warnings.warn(msg, DataConversionWarning)\n",
      "/Users/ianbolliger/Library/Enthought/Canopy_64bit/User/lib/python2.7/site-packages/sklearn/utils/validation.py:420: DataConversionWarning: Data with input dtype int64 was converted to float64 by StandardScaler.\n",
      "  warnings.warn(msg, DataConversionWarning)\n",
      "/Users/ianbolliger/Library/Enthought/Canopy_64bit/User/lib/python2.7/site-packages/sklearn/utils/validation.py:420: DataConversionWarning: Data with input dtype int64 was converted to float64 by StandardScaler.\n",
      "  warnings.warn(msg, DataConversionWarning)\n"
     ]
    },
    {
     "name": "stdout",
     "output_type": "stream",
     "text": [
      "GMM Iteration: 1\n",
      "comp range = 1 - 4\n",
      "nn range = [-7 -2  3  8 13]\n"
     ]
    },
    {
     "name": "stderr",
     "output_type": "stream",
     "text": [
      "/Users/ianbolliger/Library/Enthought/Canopy_64bit/User/lib/python2.7/site-packages/sklearn/utils/validation.py:420: DataConversionWarning: Data with input dtype int64 was converted to float64 by StandardScaler.\n",
      "  warnings.warn(msg, DataConversionWarning)\n",
      "/Users/ianbolliger/Library/Enthought/Canopy_64bit/User/lib/python2.7/site-packages/sklearn/utils/validation.py:420: DataConversionWarning: Data with input dtype int64 was converted to float64 by StandardScaler.\n",
      "  warnings.warn(msg, DataConversionWarning)\n"
     ]
    },
    {
     "name": "stdout",
     "output_type": "stream",
     "text": [
      "Best Params: {'n_neighbors': 3, 'weights': 'distance', 'p': 1}\n",
      "Done: Mary\n",
      "Starting Megan\n",
      "KNN iteration: 1\n",
      "nn_max = 40\n",
      "False\n"
     ]
    },
    {
     "name": "stderr",
     "output_type": "stream",
     "text": [
      "/Users/ianbolliger/Library/Enthought/Canopy_64bit/User/lib/python2.7/site-packages/sklearn/utils/validation.py:420: DataConversionWarning: Data with input dtype int64 was converted to float64 by StandardScaler.\n",
      "  warnings.warn(msg, DataConversionWarning)\n"
     ]
    },
    {
     "name": "stdout",
     "output_type": "stream",
     "text": [
      "GMM Iteration: 1\n",
      "comp range = 1 - 4\n",
      "nn range = [22 27 32 37 42]\n",
      "GMM Iteration: 2\n",
      "comp range = 1 - 4\n",
      "nn range = [32 37 42 47 52]\n",
      "GMM Iteration: 3\n",
      "comp range = 1 - 4\n",
      "nn range = [42 47 52 57 62]\n",
      "GMM Iteration: 4\n",
      "comp range = 1 - 4\n",
      "nn range = [52 57 62 67 72]\n"
     ]
    },
    {
     "name": "stderr",
     "output_type": "stream",
     "text": [
      "/Users/ianbolliger/Library/Enthought/Canopy_64bit/User/lib/python2.7/site-packages/sklearn/utils/validation.py:420: DataConversionWarning: Data with input dtype int64 was converted to float64 by StandardScaler.\n",
      "  warnings.warn(msg, DataConversionWarning)\n",
      "/Users/ianbolliger/Library/Enthought/Canopy_64bit/User/lib/python2.7/site-packages/sklearn/utils/validation.py:420: DataConversionWarning: Data with input dtype int64 was converted to float64 by StandardScaler.\n",
      "  warnings.warn(msg, DataConversionWarning)\n"
     ]
    },
    {
     "name": "stdout",
     "output_type": "stream",
     "text": [
      "Best Params: {'n_neighbors': 32, 'weights': 'distance', 'p': 1}\n",
      "Done: Megan\n",
      "Starting Mildred\n",
      "KNN iteration: 1\n",
      "nn_max = 40\n",
      "False\n"
     ]
    },
    {
     "name": "stderr",
     "output_type": "stream",
     "text": [
      "/Users/ianbolliger/Library/Enthought/Canopy_64bit/User/lib/python2.7/site-packages/sklearn/utils/validation.py:420: DataConversionWarning: Data with input dtype int64 was converted to float64 by StandardScaler.\n",
      "  warnings.warn(msg, DataConversionWarning)\n"
     ]
    },
    {
     "name": "stdout",
     "output_type": "stream",
     "text": [
      "GMM Iteration: 1\n",
      "comp range = 1 - 4\n",
      "nn range = [26 31 36 41 46]\n",
      "GMM Iteration: 2\n",
      "comp range = 1 - 4\n",
      "nn range = [16 21 26 31 36]\n",
      "GMM Iteration: 3\n",
      "comp range = 1 - 4\n",
      "nn range = [ 6 11 16 21 26]\n",
      "GMM Iteration: 4\n",
      "comp range = 1 - 4\n",
      "nn range = [-4  1  6 11 16]\n",
      "GMM Iteration: 5\n",
      "comp range = 1 - 4\n",
      "nn range = [-14  -9  -4   1   6]\n",
      "GMM Iteration: 6\n",
      "comp range = 1 - 4\n",
      "nn range = [-24 -19 -14  -9  -4]\n",
      "GMM Iteration: 7\n",
      "comp range = 1 - 4\n",
      "nn range = [-34 -29 -24 -19 -14]\n"
     ]
    },
    {
     "name": "stderr",
     "output_type": "stream",
     "text": [
      "/Users/ianbolliger/Library/Enthought/Canopy_64bit/User/lib/python2.7/site-packages/sklearn/utils/validation.py:420: DataConversionWarning: Data with input dtype int64 was converted to float64 by StandardScaler.\n",
      "  warnings.warn(msg, DataConversionWarning)\n",
      "/Users/ianbolliger/Library/Enthought/Canopy_64bit/User/lib/python2.7/site-packages/sklearn/utils/validation.py:420: DataConversionWarning: Data with input dtype int64 was converted to float64 by StandardScaler.\n",
      "  warnings.warn(msg, DataConversionWarning)\n"
     ]
    },
    {
     "name": "stdout",
     "output_type": "stream",
     "text": [
      "Best Params: {'n_neighbors': -24, 'n_components': 3}\n",
      "Done: Mildred\n",
      "Starting Patricia\n",
      "KNN iteration: 1\n",
      "nn_max = 40\n",
      "False\n"
     ]
    },
    {
     "name": "stderr",
     "output_type": "stream",
     "text": [
      "/Users/ianbolliger/Library/Enthought/Canopy_64bit/User/lib/python2.7/site-packages/sklearn/utils/validation.py:420: DataConversionWarning: Data with input dtype int64 was converted to float64 by StandardScaler.\n",
      "  warnings.warn(msg, DataConversionWarning)\n"
     ]
    },
    {
     "name": "stdout",
     "output_type": "stream",
     "text": [
      "KNN iteration: 2\n",
      "nn_max = 80\n",
      "False\n",
      "GMM Iteration: 1\n",
      "comp range = 1 - 4\n",
      "nn range = [67 72 77 82 87]\n",
      "GMM Iteration: 2\n",
      "comp range = 1 - 4\n",
      "nn range = [57 62 67 72 77]\n",
      "GMM Iteration: 3\n",
      "comp range = 1 - 4\n",
      "nn range = [47 52 57 62 67]\n",
      "Best Params: {'n_neighbors': 57, 'n_components': 3}\n",
      "Done:"
     ]
    },
    {
     "name": "stderr",
     "output_type": "stream",
     "text": [
      "/Users/ianbolliger/Library/Enthought/Canopy_64bit/User/lib/python2.7/site-packages/sklearn/utils/validation.py:420: DataConversionWarning: Data with input dtype int64 was converted to float64 by StandardScaler.\n",
      "  warnings.warn(msg, DataConversionWarning)\n",
      "/Users/ianbolliger/Library/Enthought/Canopy_64bit/User/lib/python2.7/site-packages/sklearn/utils/validation.py:420: DataConversionWarning: Data with input dtype int64 was converted to float64 by StandardScaler.\n",
      "  warnings.warn(msg, DataConversionWarning)\n"
     ]
    },
    {
     "name": "stdout",
     "output_type": "stream",
     "text": [
      " Patricia\n",
      "Starting Philip\n",
      "KNN iteration: 1\n",
      "nn_max = 40\n",
      "False\n"
     ]
    },
    {
     "name": "stderr",
     "output_type": "stream",
     "text": [
      "/Users/ianbolliger/Library/Enthought/Canopy_64bit/User/lib/python2.7/site-packages/sklearn/utils/validation.py:420: DataConversionWarning: Data with input dtype int64 was converted to float64 by StandardScaler.\n",
      "  warnings.warn(msg, DataConversionWarning)\n"
     ]
    },
    {
     "name": "stdout",
     "output_type": "stream",
     "text": [
      "GMM Iteration: 1\n",
      "comp range = 1 - 4\n",
      "nn range = [18 23 28 33 38]\n",
      "GMM Iteration: 2\n",
      "comp range = 1 - 4\n",
      "nn range = [ 8 13 18 23 28]\n",
      "Best Params: {'n_neighbors': 28, 'weights': 'uniform', 'p': 2}\n",
      "Done: Philip\n",
      "Starting Ramiro\n",
      "KNN iteration: 1\n",
      "nn_max = 40\n",
      "False\n"
     ]
    },
    {
     "name": "stderr",
     "output_type": "stream",
     "text": [
      "/Users/ianbolliger/Library/Enthought/Canopy_64bit/User/lib/python2.7/site-packages/sklearn/utils/validation.py:420: DataConversionWarning: Data with input dtype int64 was converted to float64 by StandardScaler.\n",
      "  warnings.warn(msg, DataConversionWarning)\n",
      "/Users/ianbolliger/Library/Enthought/Canopy_64bit/User/lib/python2.7/site-packages/sklearn/utils/validation.py:420: DataConversionWarning: Data with input dtype int64 was converted to float64 by StandardScaler.\n",
      "  warnings.warn(msg, DataConversionWarning)\n",
      "/Users/ianbolliger/Library/Enthought/Canopy_64bit/User/lib/python2.7/site-packages/sklearn/utils/validation.py:420: DataConversionWarning: Data with input dtype int64 was converted to float64 by StandardScaler.\n",
      "  warnings.warn(msg, DataConversionWarning)\n"
     ]
    },
    {
     "name": "stdout",
     "output_type": "stream",
     "text": [
      "GMM Iteration: 1\n",
      "comp range = 1 - 4\n",
      "nn range = [26 31 36 41 46]\n",
      "GMM Iteration: 2\n",
      "comp range = 1 - 4\n",
      "nn range = [36 41 46 51 56]\n",
      "GMM Iteration: 3\n",
      "comp range = 1 - 4\n",
      "nn range = [46 51 56 61 66]\n",
      "GMM Iteration: 4\n",
      "comp range = 1 - 4\n",
      "nn range = [56 61 66 71 76]\n",
      "GMM Iteration: 5\n",
      "comp range = 1 - 4\n",
      "nn range = [66 71 76 81 86]\n",
      "GMM Iteration: 6\n",
      "comp range = 1 - 4\n",
      "nn range = [76 81 86 91 96]\n",
      "GMM Iteration: 7\n",
      "comp range = 1 - 4\n",
      "nn range = [ 86  91  96 101 106]\n"
     ]
    },
    {
     "name": "stderr",
     "output_type": "stream",
     "text": [
      "/Users/ianbolliger/Library/Enthought/Canopy_64bit/User/lib/python2.7/site-packages/sklearn/utils/validation.py:420: DataConversionWarning: Data with input dtype int64 was converted to float64 by StandardScaler.\n",
      "  warnings.warn(msg, DataConversionWarning)\n",
      "/Users/ianbolliger/Library/Enthought/Canopy_64bit/User/lib/python2.7/site-packages/sklearn/utils/validation.py:420: DataConversionWarning: Data with input dtype int64 was converted to float64 by StandardScaler.\n",
      "  warnings.warn(msg, DataConversionWarning)\n"
     ]
    },
    {
     "name": "stdout",
     "output_type": "stream",
     "text": [
      "Best Params: {'n_neighbors': 36, 'weights': 'distance', 'p': 2}\n",
      "Done: Ramiro\n",
      "Starting Robert\n",
      "KNN iteration: 1\n",
      "nn_max = 40\n",
      "False\n"
     ]
    },
    {
     "name": "stderr",
     "output_type": "stream",
     "text": [
      "/Users/ianbolliger/Library/Enthought/Canopy_64bit/User/lib/python2.7/site-packages/sklearn/utils/validation.py:420: DataConversionWarning: Data with input dtype int64 was converted to float64 by StandardScaler.\n",
      "  warnings.warn(msg, DataConversionWarning)\n"
     ]
    },
    {
     "name": "stdout",
     "output_type": "stream",
     "text": [
      "GMM Iteration: 1\n",
      "comp range = 1 - 4\n",
      "nn range = [-2  3  8 13 18]\n",
      "GMM Iteration: 2\n",
      "comp range = 1 - 4\n",
      "nn range = [-12  -7  -2   3   8]\n"
     ]
    },
    {
     "name": "stderr",
     "output_type": "stream",
     "text": [
      "/Users/ianbolliger/Library/Enthought/Canopy_64bit/User/lib/python2.7/site-packages/sklearn/utils/validation.py:420: DataConversionWarning: Data with input dtype int64 was converted to float64 by StandardScaler.\n",
      "  warnings.warn(msg, DataConversionWarning)\n",
      "/Users/ianbolliger/Library/Enthought/Canopy_64bit/User/lib/python2.7/site-packages/sklearn/utils/validation.py:420: DataConversionWarning: Data with input dtype int64 was converted to float64 by StandardScaler.\n",
      "  warnings.warn(msg, DataConversionWarning)\n"
     ]
    },
    {
     "name": "stdout",
     "output_type": "stream",
     "text": [
      "Best Params: {'n_neighbors': 8, 'weights': 'uniform', 'p': 2}\n",
      "Done: Robert\n",
      "Starting Rosalie\n",
      "KNN iteration: 1\n",
      "nn_max = 40\n",
      "False\n"
     ]
    },
    {
     "name": "stderr",
     "output_type": "stream",
     "text": [
      "/Users/ianbolliger/Library/Enthought/Canopy_64bit/User/lib/python2.7/site-packages/sklearn/utils/validation.py:420: DataConversionWarning: Data with input dtype int64 was converted to float64 by StandardScaler.\n",
      "  warnings.warn(msg, DataConversionWarning)\n"
     ]
    },
    {
     "name": "stdout",
     "output_type": "stream",
     "text": [
      "GMM Iteration: 1\n",
      "comp range = 1 - 4\n",
      "nn range = [29 34 39 44 49]\n",
      "GMM Iteration: 2\n",
      "comp range = 1 - 4\n",
      "nn range = [39 44 49 54 59]\n",
      "GMM Iteration: 3\n",
      "comp range = 1 - 4\n",
      "nn range = [49 54 59 64 69]\n",
      "GMM Iteration: 4\n",
      "comp range = 1 - 4\n",
      "nn range = [59 64 69 74 79]\n",
      "GMM Iteration: 5\n",
      "comp range = 1 - 4\n",
      "nn range = [69 74 79 84 89]\n",
      "GMM Iteration: 6\n",
      "comp range = 1 - 4\n",
      "nn range = [79 84 89 94 99]\n",
      "GMM Iteration: 7\n",
      "comp range = 1 - 4\n",
      "nn range = [ 89  94  99 104 109]\n",
      "GMM Iteration: 8\n",
      "comp range = 1 - 4\n",
      "nn range = [ 99 104 109 114 119]\n",
      "GMM Iteration: 9\n",
      "comp range = 1 - 4\n",
      "nn range = [109 114 119 124 129]\n"
     ]
    },
    {
     "name": "stderr",
     "output_type": "stream",
     "text": [
      "/Users/ianbolliger/Library/Enthought/Canopy_64bit/User/lib/python2.7/site-packages/sklearn/utils/validation.py:420: DataConversionWarning: Data with input dtype int64 was converted to float64 by StandardScaler.\n",
      "  warnings.warn(msg, DataConversionWarning)\n",
      "/Users/ianbolliger/Library/Enthought/Canopy_64bit/User/lib/python2.7/site-packages/sklearn/utils/validation.py:420: DataConversionWarning: Data with input dtype int64 was converted to float64 by StandardScaler.\n",
      "  warnings.warn(msg, DataConversionWarning)\n"
     ]
    },
    {
     "name": "stdout",
     "output_type": "stream",
     "text": [
      "Best Params: {'n_neighbors': 39, 'weights': 'uniform', 'p': 2}\n",
      "Done: Rosalie\n",
      "Starting Rose\n",
      "KNN iteration: 1\n",
      "nn_max = 40\n",
      "False\n"
     ]
    },
    {
     "name": "stderr",
     "output_type": "stream",
     "text": [
      "/Users/ianbolliger/Library/Enthought/Canopy_64bit/User/lib/python2.7/site-packages/sklearn/utils/validation.py:420: DataConversionWarning: Data with input dtype int64 was converted to float64 by StandardScaler.\n",
      "  warnings.warn(msg, DataConversionWarning)\n"
     ]
    },
    {
     "name": "stdout",
     "output_type": "stream",
     "text": [
      "KNN iteration: 2\n",
      "nn_max = 80\n",
      "False\n",
      "GMM Iteration: 1\n",
      "comp range = 1 - 4\n",
      "nn range = [30 35 40 45 50]\n",
      "GMM Iteration: 2\n",
      "comp range = 1 - 4\n",
      "nn range = [40 45 50 55 60]\n",
      "GMM Iteration: 3\n",
      "comp range = 1 - 4\n",
      "nn range = [50 55 60 65 70]\n",
      "GMM Iteration: 4\n",
      "comp range = 1 - 4\n",
      "nn range = [60 65 70 75 80]\n",
      "GMM Iteration: 5\n",
      "comp range = 1 - 4\n",
      "nn range = [70 75 80 85 90]\n"
     ]
    },
    {
     "name": "stderr",
     "output_type": "stream",
     "text": [
      "/Users/ianbolliger/Library/Enthought/Canopy_64bit/User/lib/python2.7/site-packages/sklearn/utils/validation.py:420: DataConversionWarning: Data with input dtype int64 was converted to float64 by StandardScaler.\n",
      "  warnings.warn(msg, DataConversionWarning)\n",
      "/Users/ianbolliger/Library/Enthought/Canopy_64bit/User/lib/python2.7/site-packages/sklearn/utils/validation.py:420: DataConversionWarning: Data with input dtype int64 was converted to float64 by StandardScaler.\n",
      "  warnings.warn(msg, DataConversionWarning)\n"
     ]
    },
    {
     "name": "stdout",
     "output_type": "stream",
     "text": [
      "Best Params: {'n_neighbors': 40, 'weights': 'uniform', 'p': 2}\n",
      "Done: Rose\n",
      "Starting Ruth\n",
      "KNN iteration: 1\n",
      "nn_max = 40\n",
      "False\n"
     ]
    },
    {
     "name": "stderr",
     "output_type": "stream",
     "text": [
      "/Users/ianbolliger/Library/Enthought/Canopy_64bit/User/lib/python2.7/site-packages/sklearn/utils/validation.py:420: DataConversionWarning: Data with input dtype int64 was converted to float64 by StandardScaler.\n",
      "  warnings.warn(msg, DataConversionWarning)\n"
     ]
    },
    {
     "name": "stdout",
     "output_type": "stream",
     "text": [
      "GMM Iteration: 1\n",
      "comp range = 1 - 4\n",
      "nn range = [18 23 28 33 38]\n",
      "GMM Iteration: 2\n",
      "comp range = 1 - 4\n",
      "nn range = [28 33 38 43 48]\n"
     ]
    },
    {
     "name": "stderr",
     "output_type": "stream",
     "text": [
      "/Users/ianbolliger/Library/Enthought/Canopy_64bit/User/lib/python2.7/site-packages/sklearn/utils/validation.py:420: DataConversionWarning: Data with input dtype int64 was converted to float64 by StandardScaler.\n",
      "  warnings.warn(msg, DataConversionWarning)\n",
      "/Users/ianbolliger/Library/Enthought/Canopy_64bit/User/lib/python2.7/site-packages/sklearn/utils/validation.py:420: DataConversionWarning: Data with input dtype int64 was converted to float64 by StandardScaler.\n",
      "  warnings.warn(msg, DataConversionWarning)\n"
     ]
    },
    {
     "name": "stdout",
     "output_type": "stream",
     "text": [
      "Best Params: {'n_neighbors': 28, 'weights': 'uniform', 'p': 1}\n",
      "Done: Ruth\n",
      "Starting Ryan\n",
      "KNN iteration: 1\n",
      "nn_max = 40\n",
      "False\n"
     ]
    },
    {
     "name": "stderr",
     "output_type": "stream",
     "text": [
      "/Users/ianbolliger/Library/Enthought/Canopy_64bit/User/lib/python2.7/site-packages/sklearn/utils/validation.py:420: DataConversionWarning: Data with input dtype int64 was converted to float64 by StandardScaler.\n",
      "  warnings.warn(msg, DataConversionWarning)\n"
     ]
    },
    {
     "name": "stdout",
     "output_type": "stream",
     "text": [
      "GMM Iteration: 1\n",
      "comp range = 1 - 4\n",
      "nn range = [21 26 31 36 41]\n",
      "GMM Iteration: 2\n",
      "comp range = 1 - 4\n",
      "nn range = [31 36 41 46 51]\n",
      "GMM Iteration: 3\n",
      "comp range = 1 - 4\n",
      "nn range = [41 46 51 56 61]\n",
      "GMM Iteration: 4\n",
      "comp range = 5 - 8\n",
      "nn range = [41 46 51 56 61]\n"
     ]
    }
   ],
   "source": [
    "# For restarting loops...\n",
    "already_done = ['Ana','Billy','David','Dianne','Donald','Elisabeth','Garland','George','Heather','Hilda','James',\n",
    "                'Jerrie']\n",
    "\n",
    "# loop over all training data files in the directory\n",
    "for filename in os.listdir(\"./\"):\n",
    "    if filename.endswith(\".csv\"):\n",
    "        if not filename.endswith(\"_quest.csv\"):\n",
    "            name = filename.split('.')[0]\n",
    "            if name not in already_done:\n",
    "                print \"Starting\", name\n",
    "\n",
    "                ## Data preprocessing\n",
    "                d = read_NY_NY(filename)\n",
    "\n",
    "                # lat long\n",
    "                Y = d[:,:2]\n",
    "\n",
    "                # get datetime objects from timestamps\n",
    "                datetime_labels = [datetime.datetime.fromtimestamp( lab ) for lab in d[:,2]]\n",
    "                # day of the week\n",
    "                days = [h.weekday() for h in datetime_labels]\n",
    "                # time of day\n",
    "                times = [seconds_from_midnight(h) for h in datetime_labels]\n",
    "                # weekend vs. weekday\n",
    "                day_type = [(i > 4).real for i in days]\n",
    "\n",
    "                # make X dataset\n",
    "                X = np.array((days,times,day_type)).T\n",
    "                scalar = StandardScaler().fit(X)\n",
    "                X = scalar.transform(X)\n",
    "\n",
    "                # Set up CV sets\n",
    "                cross_val = KFold(Y.shape[0],n_folds = n_folds, shuffle=True, random_state = seed)\n",
    "\n",
    "\n",
    "                ## Try KNN\n",
    "                nn_max = 40\n",
    "                nn_min = 1\n",
    "                found_best = False\n",
    "                knn_iter = 1\n",
    "                while not found_best:\n",
    "                    print \"KNN iteration:\", knn_iter\n",
    "                    print \"nn_max =\", nn_max\n",
    "                    print found_best\n",
    "                    nn = range(nn_min,nn_max+1)\n",
    "                    weights = ['uniform','distance']\n",
    "                    p = [1,2]\n",
    "\n",
    "                    knn_pred = GridSearchCV(KNN(),\n",
    "                            param_grid = {'n_neighbors' : nn,\n",
    "                                          'weights' : weights,\n",
    "                                          'p' : p},\n",
    "                            n_jobs=-1,\n",
    "                            cv = cross_val)\n",
    "                    knn_pred.fit(X,Y)\n",
    "                    if knn_pred.best_params_['n_neighbors'] == nn_max:\n",
    "                        nn_min = nn_max\n",
    "                        nn_max = nn_min + 40\n",
    "                        knn_iter += 1\n",
    "                    else:\n",
    "                        found_best = True\n",
    "                knn_score = knn_pred.best_score_\n",
    "                knn_neighbors = knn_pred.best_params_['n_neighbors']\n",
    "\n",
    "\n",
    "                ## Try GMM Predictor using close to the same # of neighbors to average over as the \n",
    "                comp_min = 1\n",
    "                comp_max = 4\n",
    "                nn = np.arange(knn_neighbors-10,knn_neighbors+11,5)\n",
    "                best_gmm_score = -9999\n",
    "\n",
    "                gmm_iter = 1\n",
    "                found_best = False\n",
    "                while not found_best:\n",
    "                    print \"GMM Iteration:\", gmm_iter\n",
    "                    print \"comp range = %i - %i\" %(comp_min,comp_max)\n",
    "                    print \"nn range =\", nn\n",
    "                    components = range(comp_min,comp_max+1)\n",
    "\n",
    "                    gmm_pred = GridSearchCV(GMMPredictor(random_state = seed, covariance_type = 'full'),\n",
    "                            param_grid = {'n_components': components,\n",
    "                                          'n_neighbors': nn},\n",
    "                            n_jobs=-1,\n",
    "                            cv = cross_val)\n",
    "                    gmm_pred.fit(X,Y)\n",
    "\n",
    "                    best_neighbors = gmm_pred.best_params_['n_neighbors']\n",
    "                    best_comp = gmm_pred.best_params_['n_components']\n",
    "\n",
    "                    if ((best_neighbors != nn[-1]) & (best_neighbors != nn[0]) & (best_comp != components[-1])) or (gmm_pred.best_score_ < best_gmm_score):\n",
    "                        found_best = True\n",
    "\n",
    "                    else:\n",
    "                        gmm_iter += 1\n",
    "                        if best_neighbors == nn[0]:\n",
    "                            nn = np.arange(nn.min()-10,nn.max()-9,5)\n",
    "                        elif best_neighbors == nn[-1]:\n",
    "                            nn = np.arange(nn.min()+10,nn.max()+11,5)\n",
    "                        elif best_comp == components[-1]:\n",
    "                            comp_max += 4\n",
    "                            comp_min += 4\n",
    "                        elif best_comp == components[0]:\n",
    "                            comp_min -= 4\n",
    "                            comp_max -= 4\n",
    "                    best_gmm_score = gmm_pred.best_score_\n",
    "\n",
    "                gmm_score = gmm_pred.best_score_\n",
    "\n",
    "                if gmm_score > knn_score:\n",
    "                    best_method[filename] = 'GMM'\n",
    "                    final_predictor = gmm_pred\n",
    "                else:\n",
    "                    best_method[filename] = 'KNN'\n",
    "                    final_predictor = knn_pred\n",
    "\n",
    "                best_params[filename] = final_predictor.best_params_\n",
    "                best_score[filename] = final_predictor.best_score_\n",
    "                print \"Best Params:\", final_predictor.best_params_\n",
    "\n",
    "                ## make predictions\n",
    "                test = read_test_data('../new_york_quest/' + name + '_quest.csv')\n",
    "                # get datetime objects from timestamps\n",
    "                datetime_labels = [datetime.datetime.fromtimestamp( lab ) for lab in test]\n",
    "                # day of the week\n",
    "                days = [h.weekday() for h in datetime_labels]\n",
    "                # time of day\n",
    "                times = [seconds_from_midnight(h) for h in datetime_labels]\n",
    "                # weekend vs. weekday\n",
    "                day_type = [(i > 4).real for i in days]\n",
    "\n",
    "                # make X dataset\n",
    "                X = np.array((days,times,day_type)).T\n",
    "                X = scalar.transform(X)\n",
    "\n",
    "                # predict\n",
    "                predicted = final_predictor.predict(X)\n",
    "\n",
    "                # save\n",
    "                name = filename.split('.')[0]\n",
    "                save_name = name + '_'\n",
    "                with open('../new_york_ans/' + name + '_quest_ans.csv','w') as f:\n",
    "                    np.savetxt('../new_york_ans/' + name + '_quest_ans.csv', predicted, delimiter = ',')\n",
    "\n",
    "                print \"Done:\", name"
   ]
  },
  {
   "cell_type": "code",
   "execution_count": null,
   "metadata": {
    "collapsed": true
   },
   "outputs": [],
   "source": []
  }
 ],
 "metadata": {
  "kernelspec": {
   "display_name": "Python 2",
   "language": "python",
   "name": "python2"
  },
  "language_info": {
   "codemirror_mode": {
    "name": "ipython",
    "version": 2
   },
   "file_extension": ".py",
   "mimetype": "text/x-python",
   "name": "python",
   "nbconvert_exporter": "python",
   "pygments_lexer": "ipython2",
   "version": "2.7.10"
  }
 },
 "nbformat": 4,
 "nbformat_minor": 0
}
