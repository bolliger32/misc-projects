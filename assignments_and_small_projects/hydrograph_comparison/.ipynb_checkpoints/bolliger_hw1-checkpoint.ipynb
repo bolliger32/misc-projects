{
 "metadata": {
  "name": "",
  "signature": "sha256:72537455e84a7d5b314427162740d7bf8598b076fca2a0072c6ee9f6b48d31e3"
 },
 "nbformat": 3,
 "nbformat_minor": 0,
 "worksheets": []
}