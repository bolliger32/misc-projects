{
 "metadata": {
  "kernelspec": {
   "display_name": "Python 2",
   "language": "python",
   "name": "python2"
  },
  "language_info": {
   "codemirror_mode": {
    "name": "ipython",
    "version": 2
   },
   "file_extension": ".py",
   "mimetype": "text/x-python",
   "name": "python",
   "nbconvert_exporter": "python",
   "pygments_lexer": "ipython2",
   "version": "2.7.9"
  },
  "name": "",
  "signature": "sha256:f8f111da43ce012f966a188ce8ba70ab617a96392171d348c8fc91fecdde33a4"
 },
 "nbformat": 3,
 "nbformat_minor": 0,
 "worksheets": [
  {
   "cells": [
    {
     "cell_type": "code",
     "collapsed": false,
     "input": [
      "%matplotlib inline\n",
      "\n",
      "import numpy as np\n",
      "from sklearn.grid_search import GridSearchCV\n",
      "\n",
      "from gppredictor import GPPredictor"
     ],
     "language": "python",
     "metadata": {},
     "outputs": [],
     "prompt_number": 7
    },
    {
     "cell_type": "code",
     "collapsed": false,
     "input": [
      "def load_data(fname, delimiter=',', skiprows=1, shuffle=False, test=False,random_seed=0):\n",
      "    data = np.genfromtxt(fname, delimiter=delimiter, skiprows=skiprows)\n",
      "    if shuffle:\n",
      "        np.random.seed(random_seed)\n",
      "        np.random.shuffle(data)\n",
      "    if test:\n",
      "        X = data\n",
      "        return X\n",
      "    else:\n",
      "        X, Y = data[:,:-1], data[:,-1:]\n",
      "        return X,Y\n",
      "\n",
      "def get_new_search_limits(grid,selected_param):\n",
      "    \"\"\"Returns the adjacent grid elements to the optimal parameter from a grid search\"\"\"\n",
      "    ix = np.nonzero(grid == selected_param)[0][0]\n",
      "    return grid[ix-1],grid[ix+1]"
     ],
     "language": "python",
     "metadata": {},
     "outputs": [],
     "prompt_number": 9
    },
    {
     "cell_type": "heading",
     "level": 2,
     "metadata": {},
     "source": [
      "Part 1. Predictions"
     ]
    },
    {
     "cell_type": "code",
     "collapsed": false,
     "input": [
      "X,Y = load_data('trn_data.csv',shuffle=True)\n",
      "X_test = load_data('tst_locations.csv',test=True)\n",
      "predictor = GPPredictor()"
     ],
     "language": "python",
     "metadata": {},
     "outputs": [],
     "prompt_number": 10
    },
    {
     "cell_type": "heading",
     "level": 3,
     "metadata": {},
     "source": [
      "Grid search to optimize hyperparameter value"
     ]
    },
    {
     "cell_type": "code",
     "collapsed": false,
     "input": [
      "grid_length=20\n",
      "np.random.seed(0)\n",
      "\n",
      "search_grid_h = np.logspace(0,6,grid_length)\n",
      "search_grid_sigma = np.logspace(-3,1,grid_length)\n",
      "pred = GridSearchCV(GPPredictor(),param_grid={'h':search_grid_h,'sigma_n':search_grid_sigma},cv=10,n_jobs=-1)\n",
      "pred.fit(X,Y)\n",
      "best_params = pred.best_params_\n",
      "\n",
      "best_h = best_params['h']\n",
      "best_sigma = best_params['sigma_n']\n",
      "\n",
      "\n",
      "# iterate linear grid search with finer mesh until the change in optimal h is less than a threshold\n",
      "threshold_h = 100.\n",
      "threshold_sigma = .01\n",
      "diff_h = threshold_h + 1.\n",
      "diff_sigma = threshold_sigma + 1.\n",
      "iterations = 1\n",
      "\n",
      "while (diff_h > threshold_h) or (diff_sigma > threshold_sigma):\n",
      "    print \"iteration #:\", iterations\n",
      "    print \"current best h:\", best_h\n",
      "    print \"current best sigma_n:\", best_sigma\n",
      "    print \"current score:\", pred.best_score_\n",
      "    print \"\"\n",
      "    \n",
      "    search_lim_h = get_new_search_limits(search_grid_h,best_h)\n",
      "    search_grid_h = np.linspace(search_lim_h[0],search_lim_h[1],grid_length)\n",
      "    search_lim_sigma = get_new_search_limits(search_grid_sigma,best_sigma)\n",
      "    search_grid_sigma = np.linspace(search_lim_sigma[0],search_lim_sigma[1],grid_length)\n",
      "    \n",
      "    pred = GridSearchCV(GPPredictor(),param_grid={'h':search_grid_h,'sigma_n':search_grid_sigma},cv=10,n_jobs=-1)\n",
      "    pred.fit(X,Y)\n",
      "    best_params = pred.best_params_\n",
      "    \n",
      "    best_h_old = best_h\n",
      "    best_h = best_params['h']\n",
      "    best_sigma_old = best_sigma\n",
      "    best_sigma = best_params['sigma_n']\n",
      "    \n",
      "    \n",
      "    iterations += 1\n",
      "    diff_h = abs(best_h - best_h_old)\n",
      "    diff_sigma = abs(best_sigma - best_sigma_old)\n"
     ],
     "language": "python",
     "metadata": {
      "scrolled": false
     },
     "outputs": [
      {
       "output_type": "stream",
       "stream": "stdout",
       "text": [
        "iteration #: 1\n",
        "current best h: 54555.9478117\n",
        "current best sigma_n: 0.545559478117\n",
        "current score: 0.662382650633\n",
        "\n",
        "iteration #: 2\n",
        "current best h: 53687.7553603\n",
        "current best sigma_n: 0.59645365263\n",
        "current score: 0.662717507018\n",
        "\n",
        "iteration #: 3\n",
        "current best h: 55365.3757516\n",
        "current best sigma_n: 0.588837517426\n",
        "current score: 0.662826200807\n",
        "\n"
       ]
      }
     ],
     "prompt_number": 11
    },
    {
     "cell_type": "code",
     "collapsed": false,
     "input": [
      "score = pred.best_score_\n",
      "rmse = np.sqrt(((pred.predict(X)-Y)**2).mean())\n",
      "params = pred.best_params_\n",
      "print \"CV score:\", score\n",
      "print \"RMSE on full training dataset:\", rmse\n",
      "print \"parameters chosen:\", params"
     ],
     "language": "python",
     "metadata": {},
     "outputs": [
      {
       "output_type": "stream",
       "stream": "stdout",
       "text": [
        "CV score: 0.662826290854\n",
        "RMSE on full training dataset: 12.3784442683\n",
        "parameters chosen: {'h': 55340.148377322024, 'sigma_n': 0.58835649835994319}\n"
       ]
      }
     ],
     "prompt_number": 12
    },
    {
     "cell_type": "heading",
     "level": 3,
     "metadata": {},
     "source": [
      "Predict and save csv"
     ]
    },
    {
     "cell_type": "code",
     "collapsed": false,
     "input": [
      "# ## using for quick code testing after I'd done the grid search already\n",
      "# pred = GridSearchCV(GPPredictor(),param_grid={'h':[130987],'sigma_n':[1.525]},cv=10,n_jobs=-1)\n",
      "# pred.fit(X,Y)"
     ],
     "language": "python",
     "metadata": {},
     "outputs": [
      {
       "metadata": {},
       "output_type": "pyout",
       "prompt_number": 4,
       "text": [
        "GridSearchCV(cv=10, error_score='raise',\n",
        "       estimator=GPPredictor(h=50000, proj=None, shuffle=None, sigma_n=0),\n",
        "       fit_params={}, iid=True, loss_func=None, n_jobs=-1,\n",
        "       param_grid={'h': [130987], 'sigma_n': [1.525]},\n",
        "       pre_dispatch='2*n_jobs', refit=True, score_func=None, scoring=None,\n",
        "       verbose=0)"
       ]
      }
     ],
     "prompt_number": 4
    },
    {
     "cell_type": "code",
     "collapsed": false,
     "input": [
      "# predict using optimized bandwidth parameter\n",
      "y_vals = pred.predict(X_test)\n",
      "prediction = np.hstack((X_test,y_vals))\n",
      "\n",
      "np.savetxt('predictions.csv',prediction,header='lat,lon,mm_predicted',delimiter=',',fmt='%.3f',comments='')"
     ],
     "language": "python",
     "metadata": {
      "scrolled": false
     },
     "outputs": [],
     "prompt_number": 13
    },
    {
     "cell_type": "heading",
     "level": 2,
     "metadata": {
      "collapsed": false
     },
     "source": [
      "Part II. Simulation"
     ]
    },
    {
     "cell_type": "code",
     "collapsed": false,
     "input": [
      "bounding_box = [38.5, 39.3, -120.8, -119.8]\n",
      "estimator = pred.best_estimator_\n",
      "f_sim = estimator.simulate(bounding_box,random_seed=0,n_cell=50)"
     ],
     "language": "python",
     "metadata": {},
     "outputs": [],
     "prompt_number": 14
    },
    {
     "cell_type": "heading",
     "level": 2,
     "metadata": {},
     "source": [
      "Part III. KML"
     ]
    },
    {
     "cell_type": "code",
     "collapsed": false,
     "input": [
      "estimator.visualize(bounding_box,n_cell=50)"
     ],
     "language": "python",
     "metadata": {},
     "outputs": [
      {
       "metadata": {},
       "output_type": "pyout",
       "prompt_number": 15,
       "text": [
        "(<matplotlib.figure.Figure at 0x10d3a2e90>,\n",
        " <matplotlib.axes._axes.Axes at 0x10d0ae6d0>)"
       ]
      },
      {
       "metadata": {},
       "output_type": "display_data",
       "png": "[encoded data removed]",
       "text": [
        "<matplotlib.figure.Figure at 0x10d3a2e90>"
       ]
      }
     ],
     "prompt_number": 15
    },
    {
     "cell_type": "code",
     "collapsed": true,
     "input": [],
     "language": "python",
     "metadata": {},
     "outputs": [],
     "prompt_number": null
    }
   ],
   "metadata": {}
  }
 ]
}