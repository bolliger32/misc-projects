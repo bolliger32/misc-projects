{
 "cells": [
  {
   "cell_type": "code",
   "execution_count": 1,
   "metadata": {
    "collapsed": false
   },
   "outputs": [],
   "source": [
    "%matplotlib inline\n",
    "\n",
    "import numpy as np\n",
    "from sklearn.grid_search import GridSearchCV\n",
    "\n",
    "from gppredictor import GPPredictor"
   ]
  },
  {
   "cell_type": "code",
   "execution_count": 2,
   "metadata": {
    "collapsed": true
   },
   "outputs": [],
   "source": [
    "def load_data(fname, delimiter=',', skiprows=1, test=False):\n",
    "    data = np.genfromtxt(fname, delimiter=delimiter, skiprows=skiprows)\n",
    "    if test:\n",
    "        X = data\n",
    "        return X\n",
    "    else:\n",
    "        X, Y = data[:,:-1], data[:,-1:]\n",
    "        return X,Y\n",
    "\n",
    "# def make_grid(bounding_box, ncell):\n",
    "#     xmin, xmax, ymin, ymax = bounding_box\n",
    "#     xgrid = np.linspace(xmin, xmax, ncell)\n",
    "#     ygrid = np.linspace(ymin, ymax, ncell)\n",
    "#     mX, mY = np.meshgrid(xgrid, ygrid)\n",
    "#     ngridX = mX.reshape(ncell*ncell, 1);\n",
    "#     ngridY = mY.reshape(ncell*ncell, 1);\n",
    "#     return np.concatenate((ngridX, ngridY), axis=1)\n",
    "\n",
    "def get_new_search_limits(grid,selected_param):\n",
    "    \"\"\"Returns the adjacent grid elements to the optimal parameter from a grid search\"\"\"\n",
    "    ix = np.nonzero(grid == selected_param)[0][0]\n",
    "    return grid[ix-1],grid[ix+1]"
   ]
  },
  {
   "cell_type": "markdown",
   "metadata": {},
   "source": [
    "## Part 1. Predictions"
   ]
  },
  {
   "cell_type": "code",
   "execution_count": 3,
   "metadata": {
    "collapsed": false
   },
   "outputs": [],
   "source": [
    "X,Y = load_data('trn_data.csv')\n",
    "X_test = load_data('tst_locations.csv',test=True)\n",
    "predictor = GPPredictor()"
   ]
  },
  {
   "cell_type": "markdown",
   "metadata": {},
   "source": [
    "### Grid search to optimize hyperparameter value"
   ]
  },
  {
   "cell_type": "code",
   "execution_count": null,
   "metadata": {
    "collapsed": false,
    "scrolled": false
   },
   "outputs": [],
   "source": [
    "grid_length=20\n",
    "np.random.seed(0)\n",
    "\n",
    "search_grid_h = np.logspace(0,6,grid_length)\n",
    "search_grid_sigma = np.logspace(-3,1,grid_length)\n",
    "pred = GridSearchCV(GPPredictor(),param_grid={'h':search_grid_h,'sigma_n':search_grid_sigma},cv=10,n_jobs=-1)\n",
    "pred.fit(X,Y)\n",
    "best_params = pred.best_params_\n",
    "\n",
    "best_h = best_params['h']\n",
    "best_sigma = best_params['sigma_n']\n",
    "\n",
    "\n",
    "# iterate linear grid search with finer mesh until the change in optimal h is less than a threshold\n",
    "threshold_h = 100.\n",
    "threshold_sigma = .01\n",
    "diff_h = threshold_h + 1.\n",
    "diff_sigma = threshold_sigma + 1.\n",
    "iterations = 1\n",
    "\n",
    "while (diff_h > threshold_h) or (diff_sigma > threshold_sigma):\n",
    "    print \"iteration #:\", iterations\n",
    "    print \"current best h:\", best_h\n",
    "    print \"current best sigma_n:\", best_sigma\n",
    "    print \"current score:\", pred.best_score_\n",
    "    print \"\"\n",
    "    \n",
    "    search_lim_h = get_new_search_limits(search_grid_h,best_h)\n",
    "    search_grid_h = np.linspace(search_lim_h[0],search_lim_h[1],grid_length)\n",
    "    search_lim_sigma = get_new_search_limits(search_grid_sigma,best_sigma)\n",
    "    search_grid_sigma = np.linspace(search_lim_sigma[0],search_lim_sigma[1],grid_length)\n",
    "    \n",
    "    pred = GridSearchCV(GPPredictor(),param_grid={'h':search_grid_h,'sigma_n':search_grid_sigma},cv=10,n_jobs=-1)\n",
    "    pred.fit(X,Y)\n",
    "    best_params = pred.best_params_\n",
    "    \n",
    "    best_h_old = best_h\n",
    "    best_h = best_params['h']\n",
    "    best_sigma_old = best_sigma\n",
    "    best_sigma = best_params['sigma_n']\n",
    "    \n",
    "    \n",
    "    iterations += 1\n",
    "    diff_h = abs(best_h - best_h_old)\n",
    "    diff_sigma = abs(best_sigma - best_sigma_old)\n"
   ]
  },
  {
   "cell_type": "code",
   "execution_count": null,
   "metadata": {
    "collapsed": false
   },
   "outputs": [],
   "source": [
    "score = pred.best_score_\n",
    "rmse = np.sqrt(((pred.predict(X)-Y)**2).mean())\n",
    "params = pred.best_params_\n",
    "print \"CV score:\", score\n",
    "print \"RMSE on full training dataset:\", rmse\n",
    "print \"parameters chosen:\", params"
   ]
  },
  {
   "cell_type": "markdown",
   "metadata": {},
   "source": [
    "### Predict and save csv"
   ]
  },
  {
   "cell_type": "code",
   "execution_count": 4,
   "metadata": {
    "collapsed": false
   },
   "outputs": [
    {
     "data": {
      "text/plain": [
       "GridSearchCV(cv=10, error_score='raise',\n",
       "       estimator=GPPredictor(h=50000, proj=None, shuffle=None, sigma_n=0),\n",
       "       fit_params={}, iid=True, loss_func=None, n_jobs=-1,\n",
       "       param_grid={'h': [130987], 'sigma_n': [1.525]},\n",
       "       pre_dispatch='2*n_jobs', refit=True, score_func=None, scoring=None,\n",
       "       verbose=0)"
      ]
     },
     "execution_count": 4,
     "metadata": {},
     "output_type": "execute_result"
    }
   ],
   "source": [
    "# ## using for quick code testing after I'd done the grid search already\n",
    "# pred = GridSearchCV(GPPredictor(),param_grid={'h':[130987],'sigma_n':[1.525]},cv=10,n_jobs=-1)\n",
    "# pred.fit(X,Y)"
   ]
  },
  {
   "cell_type": "code",
   "execution_count": null,
   "metadata": {
    "collapsed": false,
    "scrolled": false
   },
   "outputs": [],
   "source": [
    "# predict using optimized bandwidth parameter\n",
    "y_vals = pred.predict(X_test)\n",
    "prediction = np.hstack((X_test,y_vals))\n",
    "\n",
    "np.savetxt('predictions.csv',prediction,header='lat,lon,mm_predicted',delimiter=',',fmt='%.3f',comments='')"
   ]
  },
  {
   "cell_type": "markdown",
   "metadata": {
    "collapsed": false
   },
   "source": [
    "## Part II. Simulation"
   ]
  },
  {
   "cell_type": "code",
   "execution_count": 5,
   "metadata": {
    "collapsed": false
   },
   "outputs": [],
   "source": [
    "bounding_box = [38.5, 39.3, -120.8, -119.8]\n",
    "estimator = pred.best_estimator_\n",
    "f_sim = estimator.simulate(bounding_box,random_seed=0,n_cell=50)"
   ]
  },
  {
   "cell_type": "markdown",
   "metadata": {},
   "source": [
    "## Part III. KML"
   ]
  },
  {
   "cell_type": "code",
   "execution_count": 6,
   "metadata": {
    "collapsed": false
   },
   "outputs": [
    {
     "data": {
      "text/plain": [
       "(<matplotlib.figure.Figure at 0x103a99350>,\n",
       " <matplotlib.axes._axes.Axes at 0x10d092610>)"
      ]
     },
     "execution_count": 6,
     "metadata": {},
     "output_type": "execute_result"
    },
    {
     "data": {
      "image/png": "[encoded data removed]",
      "text/plain": [
       "<matplotlib.figure.Figure at 0x103a99350>"
      ]
     },
     "metadata": {},
     "output_type": "display_data"
    }
   ],
   "source": [
    "estimator.visualize(bounding_box,n_cell=50)"
   ]
  }
 ],
 "metadata": {
  "kernelspec": {
   "display_name": "Python 2",
   "language": "python",
   "name": "python2"
  },
  "language_info": {
   "codemirror_mode": {
    "name": "ipython",
    "version": 2
   },
   "file_extension": ".py",
   "mimetype": "text/x-python",
   "name": "python",
   "nbconvert_exporter": "python",
   "pygments_lexer": "ipython2",
   "version": "2.7.9"
  }
 },
 "nbformat": 4,
 "nbformat_minor": 0
}
