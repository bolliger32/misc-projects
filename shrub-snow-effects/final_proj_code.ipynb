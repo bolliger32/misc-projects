{
 "metadata": {
  "name": "",
  "signature": "sha256:55ac17e3d7a995fc48e3e5b1893631e07333c13a2151da16f78aa3d4c37c4aa1"
 },
 "nbformat": 3,
 "nbformat_minor": 0,
 "worksheets": [
  {
   "cells": [
    {
     "cell_type": "heading",
     "level": 1,
     "metadata": {},
     "source": [
      "Effects of shrub canopies on snowmelt rate"
     ]
    },
    {
     "cell_type": "heading",
     "level": 3,
     "metadata": {},
     "source": [
      "Ian Bolliger\n",
      "EPS229 Final Project\n",
      "May 8, 2015"
     ]
    },
    {
     "cell_type": "code",
     "collapsed": false,
     "input": [
      "import sys\n",
      "sys.path.append(\"/Users/ianbolliger/Documents/git\")"
     ],
     "language": "python",
     "metadata": {},
     "outputs": [],
     "prompt_number": 52
    },
    {
     "cell_type": "code",
     "collapsed": false,
     "input": [
      "from climlab.solar.insolation import daily_insolation"
     ],
     "language": "python",
     "metadata": {},
     "outputs": [],
     "prompt_number": 54
    },
    {
     "cell_type": "code",
     "collapsed": false,
     "input": [
      "class Layer:\n",
      "    def __init__(self,opt_params_v,opt_params_i):\n",
      "        self.v = OptParams(opt_params_v)\n",
      "        self.i = OptParams(opt_params_i)\n",
      "        \n",
      "class OptParams:\n",
      "    def __init__(self,refl_trans):\n",
      "        self.R = refl_trans[0]\n",
      "        self.T = refl_trans[1]\n",
      "        self.A = 1-sum(refl_trans)"
     ],
     "language": "python",
     "metadata": {},
     "outputs": [],
     "prompt_number": 14
    },
    {
     "cell_type": "code",
     "collapsed": false,
     "input": [
      "x = Material([.1,.2],[.3,.4])\n",
      "x.v.R"
     ],
     "language": "python",
     "metadata": {},
     "outputs": [
      {
       "metadata": {},
       "output_type": "pyout",
       "prompt_number": 15,
       "text": [
        "0.1"
       ]
      }
     ],
     "prompt_number": 15
    },
    {
     "cell_type": "code",
     "collapsed": false,
     "input": [
      "## Define parameters\n",
      "\n",
      "# Constants\n",
      "sigma = 5.6704e-8 # Stefan-Boltzmann\n",
      "\n",
      "# Atomosphere parameters\n",
      "atm = Layer([.35,.65],[0,.67])\n",
      "atm.T = 278.15\n",
      "\n",
      "# Plant parameters\n",
      "plant = Layer([.1,.2],[0.,0.])\n",
      "plant.T = atm.T\n",
      "    \n",
      "# Snow parameters\n",
      "snow = Layer([.5,0],[0.,0.]) # no transmittance, old snow albedo\n",
      "snow.T = 273.15 # snow surface at 0 deg C\n",
      "\n",
      "# Insolation\n",
      "F = daily_insolation(65,94) # from climlab package\n",
      "\n",
      "# Canopy\n",
      "p = 1 # canopy coverage\n",
      "p_vec = linspace(0,1,10) # for plotting across values of p"
     ],
     "language": "python",
     "metadata": {},
     "outputs": [],
     "prompt_number": 102
    },
    {
     "cell_type": "code",
     "collapsed": false,
     "input": [
      "## Energy Balance eqns\n",
      "\n",
      "# Above plant\n",
      "# Portion with canopy\n",
      "TOA_out_pv = F*(plant.v.R + (snow.v.R*plant.v.T**2)/(1-plant.v.R*snow.v.R))\n",
      "TOA_in_pv = F\n",
      "TOA_out_pi = plant.i.A*sigma*(plant.T**4) + (1-plant.i.A)*sigma*(snow.T**4)\n",
      "TOA_in_pi = atm.i.A*sigma*(atm.T**4)\n",
      "\n",
      "# Portion without canopy\n",
      "TOA_out_av = F*snow.v.R\n",
      "TOA_in_av = F\n",
      "TOA_out_ai = snow.i.A*sigma*(snow.T**4)\n",
      "TOA_in_ai = atm.i.A*sigma*(atm.T**4)\n",
      "\n",
      "\n",
      "# Plant\n",
      "# Portion with canopy\n",
      "p_out_pv = F*(plant.v.R + (plant.v.T*(1+snow.v.R*plant.v.T))/(1-plant.v.R*snow.v.R))\n",
      "p_in_pv = F * (1+(plant.v.T*snow.v.R/(1-snow.v.R*plant.v.R)))\n",
      "p_out_pi = 2*plant.i.A*sigma*(plant.T**4)\n",
      "p_in_pi = plant.i.A*(snow.i.A*sigma*(snow.T**4) + atm.i.A*sigma*(atm.T**4))\n",
      "#p_photosynth = \n",
      "\n",
      "\n",
      "# Snow\n",
      "# Portion with canopy\n",
      "s_out_pv = F*plant.v.T*snow.v.R/(1-snow.v.R*plant.v.R)\n",
      "s_in_pv = F*plant.v.T/(1-snow.v.R*plant.v.R)\n",
      "s_out_pi = sigma*(snow.T**4)\n",
      "s_in_pi = plant.i.A*sigma*(plant.T**4) + (1-plant.i.A)*atm.i.A*sigma*(atm.T**4)\n",
      "\n",
      "# Portion without canopy\n",
      "s_out_av = F*snow.v.R\n",
      "s_in_av = F\n",
      "s_out_ai = sigma*(snow.T**4)\n",
      "s_in_ai = atm.i.A*sigma*(atm.T**4)"
     ],
     "language": "python",
     "metadata": {},
     "outputs": [],
     "prompt_number": 103
    },
    {
     "cell_type": "heading",
     "level": 5,
     "metadata": {},
     "source": [
      "Energy fluxes"
     ]
    },
    {
     "cell_type": "code",
     "collapsed": false,
     "input": [
      "#snow\n",
      "sv_flux_vec = p_vec.copy()\n",
      "si_flux_vec = p_vec.copy()\n",
      "s_flux_vec = p_vec.copy()\n",
      "\n",
      "for i,p in enumerate(p_vec):\n",
      "    sv_flux_vec[i] = p*(s_in_pv - s_out_pv) + (1-p)*(s_in_av - s_out_av)\n",
      "    si_flux_vec[i] = p*(s_in_pi - s_out_pi) + (1-p)*(s_in_ai - s_out_ai)\n",
      "    s_flux_vec[i] = sv_flux_vec[i]+si_flux_vec[i] \n",
      "    \n",
      "plot(p_vec,sv_flux_vec,'r',p_vec,si_flux_vec,'g',p_vec,s_flux_vec,'b')\n"
     ],
     "language": "python",
     "metadata": {},
     "outputs": [
      {
       "metadata": {},
       "output_type": "pyout",
       "prompt_number": 104,
       "text": [
        "[<matplotlib.lines.Line2D at 0x10ec7d150>,\n",
        " <matplotlib.lines.Line2D at 0x10ec7d3d0>,\n",
        " <matplotlib.lines.Line2D at 0x10ec7da90>]"
       ]
      },
      {
       "metadata": {},
       "output_type": "display_data",
       "png": "[encoded data removed]",
       "text": [
        "<matplotlib.figure.Figure at 0x10e8d2650>"
       ]
      }
     ],
     "prompt_number": 104
    },
    {
     "cell_type": "code",
     "collapsed": false,
     "input": [
      "s_flux"
     ],
     "language": "python",
     "metadata": {},
     "outputs": [
      {
       "metadata": {},
       "output_type": "pyout",
       "prompt_number": 78,
       "text": [
        "49.580836601811143"
       ]
      }
     ],
     "prompt_number": 78
    },
    {
     "cell_type": "heading",
     "level": 5,
     "metadata": {},
     "source": [
      "Albedo change"
     ]
    },
    {
     "cell_type": "code",
     "collapsed": false,
     "input": [
      "def system_albedo_1L(plant,snow,pct_cov):\n",
      "    sys_alb = pct_cov*(TOA_out_pv / TOA_in_pv) + (1-pct_cov)*(TOA_out_av / TOA_in_av)\n",
      "    return sys_alb"
     ],
     "language": "python",
     "metadata": {},
     "outputs": [],
     "prompt_number": 79
    },
    {
     "cell_type": "code",
     "collapsed": false,
     "input": [
      "alb_vec = p_vec.copy()\n",
      "for i,p in enumerate(p_vec):\n",
      "    alb_vec[i] = system_albedo_1L(plant,snow,p)\n",
      "alb_vec"
     ],
     "language": "python",
     "metadata": {},
     "outputs": [
      {
       "metadata": {},
       "output_type": "pyout",
       "prompt_number": 80,
       "text": [
        "array([ 0.5       ,  0.45789474,  0.41578947,  0.37368421,  0.33157895,\n",
        "        0.28947368,  0.24736842,  0.20526316,  0.16315789,  0.12105263])"
       ]
      }
     ],
     "prompt_number": 80
    },
    {
     "cell_type": "code",
     "collapsed": false,
     "input": [
      "plot(p_vec,alb_vec)"
     ],
     "language": "python",
     "metadata": {},
     "outputs": [
      {
       "metadata": {},
       "output_type": "pyout",
       "prompt_number": 81,
       "text": [
        "[<matplotlib.lines.Line2D at 0x10d50d690>]"
       ]
      },
      {
       "metadata": {},
       "output_type": "display_data",
       "png": "[encoded data removed]",
       "text": [
        "<matplotlib.figure.Figure at 0x10d7c2b10>"
       ]
      }
     ],
     "prompt_number": 81
    },
    {
     "cell_type": "code",
     "collapsed": false,
     "input": [],
     "language": "python",
     "metadata": {},
     "outputs": []
    }
   ],
   "metadata": {}
  }
 ]
}